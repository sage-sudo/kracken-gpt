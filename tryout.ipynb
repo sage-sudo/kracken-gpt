{
 "cells": [
  {
   "cell_type": "code",
   "execution_count": 9,
   "id": "541afc92",
   "metadata": {},
   "outputs": [],
   "source": [
    "import pandas as pd"
   ]
  },
  {
   "cell_type": "code",
   "execution_count": 10,
   "id": "9efbb45f",
   "metadata": {},
   "outputs": [],
   "source": [
    "path = r\"C:\\Users\\trrallele\\Momentum Metropolitan\\REALEARN\\CRYPTO STRATEGIES IN PYTHON\\GPT\\kracken-gpt\\l2_data_logs\\XBT-USD_orderbook_2025-05-10.csv\""
   ]
  },
  {
   "cell_type": "code",
   "execution_count": 11,
   "id": "a3f2ef8f",
   "metadata": {},
   "outputs": [],
   "source": [
    "df = pd.read_csv(path)"
   ]
  },
  {
   "cell_type": "code",
   "execution_count": 20,
   "id": "272924ee",
   "metadata": {},
   "outputs": [
    {
     "data": {
      "text/plain": [
       "Index(['2025-05-10 19:04:17', 'bid', '103193.5', '3.29568168'], dtype='object')"
      ]
     },
     "execution_count": 20,
     "metadata": {},
     "output_type": "execute_result"
    }
   ],
   "source": [
    "df.columns\n"
   ]
  },
  {
   "cell_type": "code",
   "execution_count": null,
   "id": "5050fd78",
   "metadata": {},
   "outputs": [
    {
     "ename": "KeyError",
     "evalue": "'best_bid'",
     "output_type": "error",
     "traceback": [
      "\u001b[31m---------------------------------------------------------------------------\u001b[39m",
      "\u001b[31mKeyError\u001b[39m                                  Traceback (most recent call last)",
      "\u001b[36mFile \u001b[39m\u001b[32mc:\\Users\\trrallele\\Momentum Metropolitan\\REALEARN\\CRYPTO STRATEGIES IN PYTHON\\myenv2.0\\Lib\\site-packages\\pandas\\core\\indexes\\base.py:3805\u001b[39m, in \u001b[36mIndex.get_loc\u001b[39m\u001b[34m(self, key)\u001b[39m\n\u001b[32m   3804\u001b[39m \u001b[38;5;28;01mtry\u001b[39;00m:\n\u001b[32m-> \u001b[39m\u001b[32m3805\u001b[39m     \u001b[38;5;28;01mreturn\u001b[39;00m \u001b[38;5;28;43mself\u001b[39;49m\u001b[43m.\u001b[49m\u001b[43m_engine\u001b[49m\u001b[43m.\u001b[49m\u001b[43mget_loc\u001b[49m\u001b[43m(\u001b[49m\u001b[43mcasted_key\u001b[49m\u001b[43m)\u001b[49m\n\u001b[32m   3806\u001b[39m \u001b[38;5;28;01mexcept\u001b[39;00m \u001b[38;5;167;01mKeyError\u001b[39;00m \u001b[38;5;28;01mas\u001b[39;00m err:\n",
      "\u001b[36mFile \u001b[39m\u001b[32mindex.pyx:167\u001b[39m, in \u001b[36mpandas._libs.index.IndexEngine.get_loc\u001b[39m\u001b[34m()\u001b[39m\n",
      "\u001b[36mFile \u001b[39m\u001b[32mindex.pyx:196\u001b[39m, in \u001b[36mpandas._libs.index.IndexEngine.get_loc\u001b[39m\u001b[34m()\u001b[39m\n",
      "\u001b[36mFile \u001b[39m\u001b[32mpandas\\\\_libs\\\\hashtable_class_helper.pxi:7081\u001b[39m, in \u001b[36mpandas._libs.hashtable.PyObjectHashTable.get_item\u001b[39m\u001b[34m()\u001b[39m\n",
      "\u001b[36mFile \u001b[39m\u001b[32mpandas\\\\_libs\\\\hashtable_class_helper.pxi:7089\u001b[39m, in \u001b[36mpandas._libs.hashtable.PyObjectHashTable.get_item\u001b[39m\u001b[34m()\u001b[39m\n",
      "\u001b[31mKeyError\u001b[39m: 'best_bid'",
      "\nThe above exception was the direct cause of the following exception:\n",
      "\u001b[31mKeyError\u001b[39m                                  Traceback (most recent call last)",
      "\u001b[36mCell\u001b[39m\u001b[36m \u001b[39m\u001b[32mIn[17]\u001b[39m\u001b[32m, line 8\u001b[39m\n\u001b[32m      5\u001b[39m df = pd.read_csv(path)\n\u001b[32m      7\u001b[39m \u001b[38;5;66;03m# Preprocessing: calculate mid price\u001b[39;00m\n\u001b[32m----> \u001b[39m\u001b[32m8\u001b[39m df[\u001b[33m'\u001b[39m\u001b[33mmid_price\u001b[39m\u001b[33m'\u001b[39m] = (\u001b[43mdf\u001b[49m\u001b[43m[\u001b[49m\u001b[33;43m'\u001b[39;49m\u001b[33;43mbest_bid\u001b[39;49m\u001b[33;43m'\u001b[39;49m\u001b[43m]\u001b[49m + df[\u001b[33m'\u001b[39m\u001b[33mbest_ask\u001b[39m\u001b[33m'\u001b[39m]) / \u001b[32m2\u001b[39m\n\u001b[32m     10\u001b[39m \u001b[38;5;66;03m# Parameters\u001b[39;00m\n\u001b[32m     11\u001b[39m wall_threshold = \u001b[32m100\u001b[39m  \u001b[38;5;66;03m# Customize this based on your volume units\u001b[39;00m\n",
      "\u001b[36mFile \u001b[39m\u001b[32mc:\\Users\\trrallele\\Momentum Metropolitan\\REALEARN\\CRYPTO STRATEGIES IN PYTHON\\myenv2.0\\Lib\\site-packages\\pandas\\core\\frame.py:4102\u001b[39m, in \u001b[36mDataFrame.__getitem__\u001b[39m\u001b[34m(self, key)\u001b[39m\n\u001b[32m   4100\u001b[39m \u001b[38;5;28;01mif\u001b[39;00m \u001b[38;5;28mself\u001b[39m.columns.nlevels > \u001b[32m1\u001b[39m:\n\u001b[32m   4101\u001b[39m     \u001b[38;5;28;01mreturn\u001b[39;00m \u001b[38;5;28mself\u001b[39m._getitem_multilevel(key)\n\u001b[32m-> \u001b[39m\u001b[32m4102\u001b[39m indexer = \u001b[38;5;28;43mself\u001b[39;49m\u001b[43m.\u001b[49m\u001b[43mcolumns\u001b[49m\u001b[43m.\u001b[49m\u001b[43mget_loc\u001b[49m\u001b[43m(\u001b[49m\u001b[43mkey\u001b[49m\u001b[43m)\u001b[49m\n\u001b[32m   4103\u001b[39m \u001b[38;5;28;01mif\u001b[39;00m is_integer(indexer):\n\u001b[32m   4104\u001b[39m     indexer = [indexer]\n",
      "\u001b[36mFile \u001b[39m\u001b[32mc:\\Users\\trrallele\\Momentum Metropolitan\\REALEARN\\CRYPTO STRATEGIES IN PYTHON\\myenv2.0\\Lib\\site-packages\\pandas\\core\\indexes\\base.py:3812\u001b[39m, in \u001b[36mIndex.get_loc\u001b[39m\u001b[34m(self, key)\u001b[39m\n\u001b[32m   3807\u001b[39m     \u001b[38;5;28;01mif\u001b[39;00m \u001b[38;5;28misinstance\u001b[39m(casted_key, \u001b[38;5;28mslice\u001b[39m) \u001b[38;5;129;01mor\u001b[39;00m (\n\u001b[32m   3808\u001b[39m         \u001b[38;5;28misinstance\u001b[39m(casted_key, abc.Iterable)\n\u001b[32m   3809\u001b[39m         \u001b[38;5;129;01mand\u001b[39;00m \u001b[38;5;28many\u001b[39m(\u001b[38;5;28misinstance\u001b[39m(x, \u001b[38;5;28mslice\u001b[39m) \u001b[38;5;28;01mfor\u001b[39;00m x \u001b[38;5;129;01min\u001b[39;00m casted_key)\n\u001b[32m   3810\u001b[39m     ):\n\u001b[32m   3811\u001b[39m         \u001b[38;5;28;01mraise\u001b[39;00m InvalidIndexError(key)\n\u001b[32m-> \u001b[39m\u001b[32m3812\u001b[39m     \u001b[38;5;28;01mraise\u001b[39;00m \u001b[38;5;167;01mKeyError\u001b[39;00m(key) \u001b[38;5;28;01mfrom\u001b[39;00m\u001b[38;5;250m \u001b[39m\u001b[34;01merr\u001b[39;00m\n\u001b[32m   3813\u001b[39m \u001b[38;5;28;01mexcept\u001b[39;00m \u001b[38;5;167;01mTypeError\u001b[39;00m:\n\u001b[32m   3814\u001b[39m     \u001b[38;5;66;03m# If we have a listlike key, _check_indexing_error will raise\u001b[39;00m\n\u001b[32m   3815\u001b[39m     \u001b[38;5;66;03m#  InvalidIndexError. Otherwise we fall through and re-raise\u001b[39;00m\n\u001b[32m   3816\u001b[39m     \u001b[38;5;66;03m#  the TypeError.\u001b[39;00m\n\u001b[32m   3817\u001b[39m     \u001b[38;5;28mself\u001b[39m._check_indexing_error(key)\n",
      "\u001b[31mKeyError\u001b[39m: 'best_bid'"
     ]
    }
   ],
   "source": [
    "import pandas as pd\n",
    "import matplotlib.pyplot as plt\n",
    "\n",
    "# Load your snapshot CSV log\n",
    "df = pd.read_csv(path, parse_dates=['timestamp'])\n",
    "\n",
    "# Preprocessing: calculate mid price\n",
    "df['mid_price'] = (df['best_bid'] + df['best_ask']) / 2\n",
    "\n",
    "# Parameters\n",
    "wall_threshold = 100  # Customize this based on your volume units\n",
    "proximity_ticks = 5   # Price levels away from mid to count as \"nearby\"\n",
    "\n",
    "signals = []\n",
    "\n",
    "# Loop over snapshots\n",
    "for i, row in df.iterrows():\n",
    "    bid_levels = eval(row['bids'])  # Assuming bids stored like [(price, volume), ...]\n",
    "    ask_levels = eval(row['asks'])\n",
    "\n",
    "    mid = row['mid_price']\n",
    "\n",
    "    # Find largest wall near mid price\n",
    "    nearby_bids = [(p, v) for p, v in bid_levels if p >= mid - proximity_ticks]\n",
    "    nearby_asks = [(p, v) for p, v in ask_levels if p <= mid + proximity_ticks]\n",
    "\n",
    "    largest_bid = max(nearby_bids, key=lambda x: x[1], default=(None, 0))\n",
    "    largest_ask = max(nearby_asks, key=lambda x: x[1], default=(None, 0))\n",
    "\n",
    "    # Simple signal rules\n",
    "    if largest_bid[1] > wall_threshold:\n",
    "        signals.append((row['timestamp'], 'LONG', mid))\n",
    "    elif largest_ask[1] > wall_threshold:\n",
    "        signals.append((row['timestamp'], 'SHORT', mid))\n",
    "\n",
    "# Convert signals to DataFrame\n",
    "signal_df = pd.DataFrame(signals, columns=['timestamp', 'signal', 'price'])\n",
    "\n",
    "# Plotting\n",
    "plt.figure(figsize=(12,6))\n",
    "plt.plot(df['timestamp'], df['mid_price'], label='Mid Price', color='black')\n",
    "\n",
    "# Plot signals\n",
    "longs = signal_df[signal_df['signal'] == 'LONG']\n",
    "shorts = signal_df[signal_df['signal'] == 'SHORT']\n",
    "plt.scatter(longs['timestamp'], longs['price'], color='green', label='Long Signal', marker='^')\n",
    "plt.scatter(shorts['timestamp'], shorts['price'], color='red', label='Short Signal', marker='v')\n",
    "\n",
    "plt.legend()\n",
    "plt.title(\"Liquidity Wall-Based Trade Signals\")\n",
    "plt.xlabel(\"Time\")\n",
    "plt.ylabel(\"Price\")\n",
    "plt.grid(True)\n",
    "plt.show()\n"
   ]
  },
  {
   "cell_type": "code",
   "execution_count": null,
   "id": "c1e43102",
   "metadata": {},
   "outputs": [],
   "source": []
  }
 ],
 "metadata": {
  "kernelspec": {
   "display_name": "Python (myenv)",
   "language": "python",
   "name": "myenv2.0"
  },
  "language_info": {
   "codemirror_mode": {
    "name": "ipython",
    "version": 3
   },
   "file_extension": ".py",
   "mimetype": "text/x-python",
   "name": "python",
   "nbconvert_exporter": "python",
   "pygments_lexer": "ipython3",
   "version": "3.11.7"
  }
 },
 "nbformat": 4,
 "nbformat_minor": 5
}
