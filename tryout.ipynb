{
 "cells": [
  {
   "cell_type": "code",
   "execution_count": 1,
   "id": "541afc92",
   "metadata": {},
   "outputs": [],
   "source": [
    "import pandas as pd"
   ]
  },
  {
   "cell_type": "code",
   "execution_count": 2,
   "id": "9efbb45f",
   "metadata": {},
   "outputs": [],
   "source": [
    "path = r\"C:\\Users\\trrallele\\Momentum Metropolitan\\REALEARN\\CRYPTO STRATEGIES IN PYTHON\\GPT\\kracken-gpt\\l2_data_logs\\XBT-USD_orderbook_2025-05-10.csv\""
   ]
  },
  {
   "cell_type": "code",
   "execution_count": 3,
   "id": "a3f2ef8f",
   "metadata": {},
   "outputs": [],
   "source": [
    "df = pd.read_csv(path)"
   ]
  },
  {
   "cell_type": "code",
   "execution_count": 4,
   "id": "272924ee",
   "metadata": {},
   "outputs": [
    {
     "data": {
      "text/plain": [
       "30902"
      ]
     },
     "execution_count": 4,
     "metadata": {},
     "output_type": "execute_result"
    }
   ],
   "source": [
    "len(df)"
   ]
  },
  {
   "cell_type": "markdown",
   "id": "97b37dc3",
   "metadata": {},
   "source": [
    "--- 29182"
   ]
  },
  {
   "cell_type": "code",
   "execution_count": null,
   "id": "5050fd78",
   "metadata": {},
   "outputs": [],
   "source": []
  }
 ],
 "metadata": {
  "kernelspec": {
   "display_name": "Python (myenv)",
   "language": "python",
   "name": "myenv2.0"
  },
  "language_info": {
   "codemirror_mode": {
    "name": "ipython",
    "version": 3
   },
   "file_extension": ".py",
   "mimetype": "text/x-python",
   "name": "python",
   "nbconvert_exporter": "python",
   "pygments_lexer": "ipython3",
   "version": "3.11.7"
  }
 },
 "nbformat": 4,
 "nbformat_minor": 5
}
